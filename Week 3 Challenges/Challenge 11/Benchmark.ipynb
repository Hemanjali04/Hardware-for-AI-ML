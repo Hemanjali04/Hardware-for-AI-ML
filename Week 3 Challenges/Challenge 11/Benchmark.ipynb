{
 "cells": [
  {
   "cell_type": "code",
   "execution_count": 1,
   "id": "eb359547-be88-4af4-a0b8-0ab110caad4d",
   "metadata": {},
   "outputs": [
    {
     "name": "stdout",
     "output_type": "stream",
     "text": [
      "Benchmarking CPU version...\n",
      "  Run 1: 0.0646 seconds\n",
      "  Run 2: 0.0607 seconds\n",
      "  Run 3: 0.0520 seconds\n",
      "  Run 4: 0.0626 seconds\n",
      "  Run 5: 0.0515 seconds\n",
      "Average time for CPU: 0.0583 seconds\n",
      "\n",
      "Benchmarking GPU version...\n",
      "  Run 1: 0.0651 seconds\n",
      "  Run 2: 0.0529 seconds\n",
      "  Run 3: 0.0524 seconds\n",
      "  Run 4: 0.0486 seconds\n",
      "  Run 5: 0.0523 seconds\n",
      "Average time for GPU: 0.0543 seconds\n",
      "\n",
      "Speed-up (CPU/GPU): 1.07x\n"
     ]
    }
   ],
   "source": [
    "!python3 benchmark.py"
   ]
  },
  {
   "cell_type": "code",
   "execution_count": null,
   "id": "d677e8e1-9b83-404b-a95b-1ce1c88db4fc",
   "metadata": {},
   "outputs": [],
   "source": []
  }
 ],
 "metadata": {
  "kernelspec": {
   "display_name": "Python [conda env:base] *",
   "language": "python",
   "name": "conda-base-py"
  },
  "language_info": {
   "codemirror_mode": {
    "name": "ipython",
    "version": 3
   },
   "file_extension": ".py",
   "mimetype": "text/x-python",
   "name": "python",
   "nbconvert_exporter": "python",
   "pygments_lexer": "ipython3",
   "version": "3.12.7"
  }
 },
 "nbformat": 4,
 "nbformat_minor": 5
}
